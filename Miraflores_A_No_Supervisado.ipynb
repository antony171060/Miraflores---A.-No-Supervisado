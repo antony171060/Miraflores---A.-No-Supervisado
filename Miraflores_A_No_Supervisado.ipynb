{
  "nbformat": 4,
  "nbformat_minor": 0,
  "metadata": {
    "colab": {
      "name": "Miraflores - A. No Supervisado.ipynb",
      "provenance": [],
      "authorship_tag": "ABX9TyM6hBz3+Lttvntff0FJ1464",
      "include_colab_link": true
    },
    "kernelspec": {
      "name": "python3",
      "display_name": "Python 3"
    },
    "language_info": {
      "name": "python"
    }
  },
  "cells": [
    {
      "cell_type": "markdown",
      "metadata": {
        "id": "view-in-github",
        "colab_type": "text"
      },
      "source": [
        "<a href=\"https://colab.research.google.com/github/antony171060/Miraflores---A.-No-Supervisado/blob/master/Miraflores_A_No_Supervisado.ipynb\" target=\"_parent\"><img src=\"https://colab.research.google.com/assets/colab-badge.svg\" alt=\"Open In Colab\"/></a>"
      ]
    },
    {
      "cell_type": "code",
      "metadata": {
        "colab": {
          "base_uri": "https://localhost:8080/"
        },
        "id": "7uBXcrTbQ_EB",
        "outputId": "12648198-0ece-4c4b-d9d4-1768b8ea0a27"
      },
      "source": [
        "!gdown --id 1LfUep5nl2qAn1pquylVb-cKxJ9lRijpk"
      ],
      "execution_count": 3,
      "outputs": [
        {
          "output_type": "stream",
          "name": "stdout",
          "text": [
            "Downloading...\n",
            "From: https://drive.google.com/uc?id=1LfUep5nl2qAn1pquylVb-cKxJ9lRijpk\n",
            "To: /content/Monitoreo_julio.xlsx\n",
            "\r  0% 0.00/86.0k [00:00<?, ?B/s]\r100% 86.0k/86.0k [00:00<00:00, 31.6MB/s]\n"
          ]
        }
      ]
    },
    {
      "cell_type": "code",
      "metadata": {
        "id": "9EvKywhzLk8H"
      },
      "source": [
        "import pandas as pd\n",
        "import matplotlib.pyplot as plt"
      ],
      "execution_count": 15,
      "outputs": []
    },
    {
      "cell_type": "code",
      "metadata": {
        "colab": {
          "base_uri": "https://localhost:8080/",
          "height": 349
        },
        "id": "G2bnt6lxRvOo",
        "outputId": "507f5136-94e6-454f-a132-8f5057bb4924"
      },
      "source": [
        "data = pd.read_excel(\"Monitoreo_julio.xlsx\")\n",
        "data.head(3)"
      ],
      "execution_count": 16,
      "outputs": [
        {
          "output_type": "execute_result",
          "data": {
            "text/html": [
              "<div>\n",
              "<style scoped>\n",
              "    .dataframe tbody tr th:only-of-type {\n",
              "        vertical-align: middle;\n",
              "    }\n",
              "\n",
              "    .dataframe tbody tr th {\n",
              "        vertical-align: top;\n",
              "    }\n",
              "\n",
              "    .dataframe thead th {\n",
              "        text-align: right;\n",
              "    }\n",
              "</style>\n",
              "<table border=\"1\" class=\"dataframe\">\n",
              "  <thead>\n",
              "    <tr style=\"text-align: right;\">\n",
              "      <th></th>\n",
              "      <th>ID</th>\n",
              "      <th>CODIGO DE LA ENTIDAD</th>\n",
              "      <th>CODIGO UBIGEO INEI</th>\n",
              "      <th>CODIGO PAIS</th>\n",
              "      <th>NOMBRE DE LA UO</th>\n",
              "      <th>Fecha</th>\n",
              "      <th>CO (ug/m3)</th>\n",
              "      <th>H2S (ug/m3)</th>\n",
              "      <th>NO2 (ug/m3)</th>\n",
              "      <th>O3 (ug/m3)</th>\n",
              "      <th>PM10 \\n(ug/m3)</th>\n",
              "      <th>PM2.5 \\n(ug/m3)</th>\n",
              "      <th>SO2 (ug/m3)</th>\n",
              "      <th>Ruido (dB)</th>\n",
              "      <th>UV</th>\n",
              "      <th>Humedad (%)</th>\n",
              "      <th>Latitud</th>\n",
              "      <th>Longitud</th>\n",
              "      <th>Presion \\n(Pa)</th>\n",
              "      <th>Temperatura (C)</th>\n",
              "    </tr>\n",
              "  </thead>\n",
              "  <tbody>\n",
              "    <tr>\n",
              "      <th>0</th>\n",
              "      <td>1</td>\n",
              "      <td>10069</td>\n",
              "      <td>150122</td>\n",
              "      <td>PE</td>\n",
              "      <td>Subgerencia de Desarrollo Ambiental</td>\n",
              "      <td>2020-07-01 00:00:00</td>\n",
              "      <td>0.0</td>\n",
              "      <td>0.0</td>\n",
              "      <td>85.205</td>\n",
              "      <td>0.0</td>\n",
              "      <td>40.796</td>\n",
              "      <td>18.586</td>\n",
              "      <td>7.274</td>\n",
              "      <td>72.477</td>\n",
              "      <td>0.0</td>\n",
              "      <td>91.640</td>\n",
              "      <td>-12.109723</td>\n",
              "      <td>-77.05194</td>\n",
              "      <td>100750.768</td>\n",
              "      <td>15.711</td>\n",
              "    </tr>\n",
              "    <tr>\n",
              "      <th>1</th>\n",
              "      <td>2</td>\n",
              "      <td>10069</td>\n",
              "      <td>150122</td>\n",
              "      <td>PE</td>\n",
              "      <td>Subgerencia de Desarrollo Ambiental</td>\n",
              "      <td>2020-07-01 01:00:00</td>\n",
              "      <td>0.0</td>\n",
              "      <td>0.0</td>\n",
              "      <td>84.505</td>\n",
              "      <td>0.0</td>\n",
              "      <td>48.194</td>\n",
              "      <td>21.018</td>\n",
              "      <td>7.276</td>\n",
              "      <td>69.671</td>\n",
              "      <td>0.0</td>\n",
              "      <td>91.324</td>\n",
              "      <td>-12.109723</td>\n",
              "      <td>-77.05194</td>\n",
              "      <td>100739.407</td>\n",
              "      <td>15.725</td>\n",
              "    </tr>\n",
              "    <tr>\n",
              "      <th>2</th>\n",
              "      <td>3</td>\n",
              "      <td>10069</td>\n",
              "      <td>150122</td>\n",
              "      <td>PE</td>\n",
              "      <td>Subgerencia de Desarrollo Ambiental</td>\n",
              "      <td>2020-07-01 02:00:00</td>\n",
              "      <td>0.0</td>\n",
              "      <td>0.0</td>\n",
              "      <td>83.381</td>\n",
              "      <td>0.0</td>\n",
              "      <td>40.881</td>\n",
              "      <td>18.833</td>\n",
              "      <td>7.253</td>\n",
              "      <td>72.052</td>\n",
              "      <td>0.0</td>\n",
              "      <td>92.585</td>\n",
              "      <td>-12.109723</td>\n",
              "      <td>-77.05194</td>\n",
              "      <td>100743.128</td>\n",
              "      <td>15.441</td>\n",
              "    </tr>\n",
              "  </tbody>\n",
              "</table>\n",
              "</div>"
            ],
            "text/plain": [
              "   ID  CODIGO DE LA ENTIDAD  ...  Presion \\n(Pa) Temperatura (C)\n",
              "0   1                 10069  ...      100750.768          15.711\n",
              "1   2                 10069  ...      100739.407          15.725\n",
              "2   3                 10069  ...      100743.128          15.441\n",
              "\n",
              "[3 rows x 20 columns]"
            ]
          },
          "metadata": {},
          "execution_count": 16
        }
      ]
    },
    {
      "cell_type": "code",
      "metadata": {
        "colab": {
          "base_uri": "https://localhost:8080/",
          "height": 281
        },
        "id": "CCnIGgkUSb8h",
        "outputId": "f82332aa-08dd-445b-917d-893b3e5b82cf"
      },
      "source": [
        "data = data.drop(['ID',\n",
        "                  'CODIGO DE LA ENTIDAD',\n",
        "                  'CODIGO UBIGEO INEI',\n",
        "                  'CODIGO PAIS ',\n",
        "                  'NOMBRE DE LA UO',\n",
        "                  'Latitud',\n",
        "                  'Longitud'],axis=1)\n",
        "data.head(3)"
      ],
      "execution_count": 17,
      "outputs": [
        {
          "output_type": "execute_result",
          "data": {
            "text/html": [
              "<div>\n",
              "<style scoped>\n",
              "    .dataframe tbody tr th:only-of-type {\n",
              "        vertical-align: middle;\n",
              "    }\n",
              "\n",
              "    .dataframe tbody tr th {\n",
              "        vertical-align: top;\n",
              "    }\n",
              "\n",
              "    .dataframe thead th {\n",
              "        text-align: right;\n",
              "    }\n",
              "</style>\n",
              "<table border=\"1\" class=\"dataframe\">\n",
              "  <thead>\n",
              "    <tr style=\"text-align: right;\">\n",
              "      <th></th>\n",
              "      <th>Fecha</th>\n",
              "      <th>CO (ug/m3)</th>\n",
              "      <th>H2S (ug/m3)</th>\n",
              "      <th>NO2 (ug/m3)</th>\n",
              "      <th>O3 (ug/m3)</th>\n",
              "      <th>PM10 \\n(ug/m3)</th>\n",
              "      <th>PM2.5 \\n(ug/m3)</th>\n",
              "      <th>SO2 (ug/m3)</th>\n",
              "      <th>Ruido (dB)</th>\n",
              "      <th>UV</th>\n",
              "      <th>Humedad (%)</th>\n",
              "      <th>Presion \\n(Pa)</th>\n",
              "      <th>Temperatura (C)</th>\n",
              "    </tr>\n",
              "  </thead>\n",
              "  <tbody>\n",
              "    <tr>\n",
              "      <th>0</th>\n",
              "      <td>2020-07-01 00:00:00</td>\n",
              "      <td>0.0</td>\n",
              "      <td>0.0</td>\n",
              "      <td>85.205</td>\n",
              "      <td>0.0</td>\n",
              "      <td>40.796</td>\n",
              "      <td>18.586</td>\n",
              "      <td>7.274</td>\n",
              "      <td>72.477</td>\n",
              "      <td>0.0</td>\n",
              "      <td>91.640</td>\n",
              "      <td>100750.768</td>\n",
              "      <td>15.711</td>\n",
              "    </tr>\n",
              "    <tr>\n",
              "      <th>1</th>\n",
              "      <td>2020-07-01 01:00:00</td>\n",
              "      <td>0.0</td>\n",
              "      <td>0.0</td>\n",
              "      <td>84.505</td>\n",
              "      <td>0.0</td>\n",
              "      <td>48.194</td>\n",
              "      <td>21.018</td>\n",
              "      <td>7.276</td>\n",
              "      <td>69.671</td>\n",
              "      <td>0.0</td>\n",
              "      <td>91.324</td>\n",
              "      <td>100739.407</td>\n",
              "      <td>15.725</td>\n",
              "    </tr>\n",
              "    <tr>\n",
              "      <th>2</th>\n",
              "      <td>2020-07-01 02:00:00</td>\n",
              "      <td>0.0</td>\n",
              "      <td>0.0</td>\n",
              "      <td>83.381</td>\n",
              "      <td>0.0</td>\n",
              "      <td>40.881</td>\n",
              "      <td>18.833</td>\n",
              "      <td>7.253</td>\n",
              "      <td>72.052</td>\n",
              "      <td>0.0</td>\n",
              "      <td>92.585</td>\n",
              "      <td>100743.128</td>\n",
              "      <td>15.441</td>\n",
              "    </tr>\n",
              "  </tbody>\n",
              "</table>\n",
              "</div>"
            ],
            "text/plain": [
              "                Fecha  CO (ug/m3)  ...  Presion \\n(Pa)  Temperatura (C)\n",
              "0 2020-07-01 00:00:00         0.0  ...      100750.768           15.711\n",
              "1 2020-07-01 01:00:00         0.0  ...      100739.407           15.725\n",
              "2 2020-07-01 02:00:00         0.0  ...      100743.128           15.441\n",
              "\n",
              "[3 rows x 13 columns]"
            ]
          },
          "metadata": {},
          "execution_count": 17
        }
      ]
    }
  ]
}